{
 "cells": [
  {
   "cell_type": "code",
   "execution_count": 2,
   "metadata": {},
   "outputs": [],
   "source": [
    "import pandas as pd\n",
    "from pathlib import Path\n",
    "import numpy as np\n",
    "import matplotlib.pyplot as plt\n",
    "from sklearn.metrics import mean_absolute_error, mean_squared_error\n",
    "from math import sqrt\n",
    "import pickle\n",
    "from ElectionForecasting.src.root import ROOT_DIR"
   ]
  },
  {
   "cell_type": "code",
   "execution_count": 3,
   "metadata": {},
   "outputs": [
    {
     "data": {
      "text/plain": [
       "(0.015171678685878532, 0.018095816752791594)"
      ]
     },
     "execution_count": 3,
     "metadata": {},
     "output_type": "execute_result"
    }
   ],
   "source": [
    "\n",
    "data_store = 'data/interim/'\n",
    "scenario = ''\n",
    "interim_data_folder = Path(f\"{ROOT_DIR}/{data_store}/{scenario}/\")\n",
    "processed_data_folder = Path(f\"{interim_data_folder}/pickles\")\n",
    "def get_avg_performance(forecast_type):\n",
    "    pickle_path = processed_data_folder / f'{forecast_type}_forecasts.pkl'\n",
    "    try:\n",
    "        with open(pickle_path, 'rb') as f:\n",
    "            gam_forecasts = pickle.load(f)\n",
    "    except FileNotFoundError:\n",
    "        print(f\"File not found: {pickle_path}\")\n",
    "    mae_sum = 0\n",
    "    rmse_sum = 0\n",
    "    n_total = 0\n",
    "    for year, preds in gam_forecasts.items():\n",
    "        for p in preds.keys():\n",
    "            y = preds[p]['y']\n",
    "            y_pred = preds[p]['y_pred']\n",
    "            mae_sum += mean_absolute_error(y, y_pred)\n",
    "            rmse_sum += sqrt(mean_squared_error(y, y_pred))\n",
    "            n_total += 1\n",
    "    avg_mae = mae_sum / n_total\n",
    "    avg_rmse = rmse_sum / n_total\n",
    "    return avg_mae, avg_rmse\n",
    "forecast_type = 'PF'\n",
    "avg_mae, avg_rmse = get_avg_performance(forecast_type)\n",
    "avg_mae, avg_rmse"
   ]
  },
  {
   "cell_type": "code",
   "execution_count": 4,
   "metadata": {},
   "outputs": [
    {
     "data": {
      "text/plain": [
       "(0.005375915851272019, 0.006800045562701342)"
      ]
     },
     "execution_count": 4,
     "metadata": {},
     "output_type": "execute_result"
    }
   ],
   "source": [
    "forecast_type = 'GAM'\n",
    "avg_mae, avg_rmse = get_avg_performance(forecast_type)\n",
    "avg_mae, avg_rmse"
   ]
  },
  {
   "cell_type": "code",
   "execution_count": 11,
   "metadata": {},
   "outputs": [
    {
     "data": {
      "text/plain": [
       "(0.0038382661890530227, 0.005080807450580566)"
      ]
     },
     "execution_count": 11,
     "metadata": {},
     "output_type": "execute_result"
    }
   ],
   "source": [
    "pickle_path = processed_data_folder / f'{forecast_type}_forecasts.pkl'\n",
    "try:\n",
    "    with open(pickle_path, 'rb') as f:\n",
    "        gam_forecasts = pickle.load(f)\n",
    "except FileNotFoundError:\n",
    "    print(f\"File not found: {pickle_path}\")\n",
    "mae_sum = 0\n",
    "rmse_sum = 0\n",
    "n_total = 0\n",
    "for year, preds in gam_forecasts.items():\n",
    "    for i, p in enumerate(preds.keys()):\n",
    "        y = preds[p]['y']\n",
    "        y_pred = preds[p]['y_pred'][:,i]\n",
    "        mae_sum += mean_absolute_error(y, y_pred)\n",
    "        rmse_sum += sqrt(mean_squared_error(y, y_pred))\n",
    "        n_total += 1\n",
    "avg_mae = mae_sum / n_total\n",
    "avg_rmse = rmse_sum / n_total\n",
    "avg_mae, avg_rmse"
   ]
  }
 ],
 "metadata": {
  "kernelspec": {
   "display_name": ".venv",
   "language": "python",
   "name": "python3"
  },
  "language_info": {
   "codemirror_mode": {
    "name": "ipython",
    "version": 3
   },
   "file_extension": ".py",
   "mimetype": "text/x-python",
   "name": "python",
   "nbconvert_exporter": "python",
   "pygments_lexer": "ipython3",
   "version": "3.10.12"
  }
 },
 "nbformat": 4,
 "nbformat_minor": 2
}
